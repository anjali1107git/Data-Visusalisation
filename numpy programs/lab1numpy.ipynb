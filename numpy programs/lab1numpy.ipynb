{
 "cells": [
  {
   "cell_type": "code",
   "execution_count": 1,
   "id": "b9e083ba-3e29-4f2e-abff-87dda78d8633",
   "metadata": {},
   "outputs": [
    {
     "name": "stdout",
     "output_type": "stream",
     "text": [
      "Numpy Array:\n",
      "[1 2 3 4 5]\n"
     ]
    }
   ],
   "source": [
    "# Lab 1\n",
    "\n",
    "import numpy as n\n",
    "\n",
    "# Question.1\n",
    "#mylist=list(int(input('Enter List:')))\n",
    "#arr=n.array(mylist)\n",
    "arr=n.array([1,2,3,4,5])\n",
    "print('Numpy Array:')\n",
    "print(arr)"
   ]
  },
  {
   "cell_type": "code",
   "execution_count": 3,
   "id": "04c29333-2807-4655-9dfe-1bf48c88532e",
   "metadata": {},
   "outputs": [
    {
     "name": "stdout",
     "output_type": "stream",
     "text": [
      "First element:: 1\n",
      "Last element:: 5\n",
      "Array after doubling each element::\n",
      "[ 2  4  6  8 10]\n"
     ]
    }
   ],
   "source": [
    "# Question.2\n",
    "arr1=n.array([1,2,3,4,5])\n",
    "print('First element::',arr1[0])\n",
    "print('Last element::',arr1[len(arr1)-1])\n",
    "print('Array after doubling each element::')\n",
    "print(arr1*2)\n"
   ]
  },
  {
   "cell_type": "code",
   "execution_count": 5,
   "id": "dd81fe07-3be7-4162-98dc-37e5ece628b0",
   "metadata": {},
   "outputs": [
    {
     "name": "stdout",
     "output_type": "stream",
     "text": [
      "An array of 10 zeros::\n",
      "[0. 0. 0. 0. 0. 0. 0. 0. 0. 0.]\n",
      "An array of 10 ones::\n",
      "[1. 1. 1. 1. 1. 1. 1. 1. 1. 1.]\n",
      "An array of 10 fives::\n",
      "[5. 5. 5. 5. 5. 5. 5. 5. 5. 5.]\n"
     ]
    }
   ],
   "source": [
    "# Question.3\n",
    "arr2=n.zeros(10)\n",
    "print('An array of 10 zeros::')\n",
    "print(arr2)\n",
    "arr3=n.zeros(10)+1\n",
    "print('An array of 10 ones::')\n",
    "print(arr3)\n",
    "arr4=n.zeros(10)+5\n",
    "print('An array of 10 fives::')\n",
    "print(arr4)\n"
   ]
  },
  {
   "cell_type": "code",
   "execution_count": 7,
   "id": "a84d3ef9-ee60-4197-a8b7-0da731688443",
   "metadata": {},
   "outputs": [
    {
     "name": "stdout",
     "output_type": "stream",
     "text": [
      "Representing an 3x3 array::\n",
      "[[ 2  3  4]\n",
      " [ 5  6  7]\n",
      " [ 8  9 10]]\n"
     ]
    }
   ],
   "source": [
    "# Question.4\n",
    "arr5=n.arange(2,11).reshape(3,3)\n",
    "print('Representing an 3x3 array::')\n",
    "print(arr5)\n"
   ]
  },
  {
   "cell_type": "code",
   "execution_count": null,
   "id": "983900af-34f7-4568-8fd9-7391fb57b8d3",
   "metadata": {},
   "outputs": [],
   "source": []
  }
 ],
 "metadata": {
  "kernelspec": {
   "display_name": "Python 3 (ipykernel)",
   "language": "python",
   "name": "python3"
  },
  "language_info": {
   "codemirror_mode": {
    "name": "ipython",
    "version": 3
   },
   "file_extension": ".py",
   "mimetype": "text/x-python",
   "name": "python",
   "nbconvert_exporter": "python",
   "pygments_lexer": "ipython3",
   "version": "3.12.4"
  }
 },
 "nbformat": 4,
 "nbformat_minor": 5
}
