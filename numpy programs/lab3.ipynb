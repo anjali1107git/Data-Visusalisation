{
 "cells": [
  {
   "cell_type": "code",
   "execution_count": 1,
   "id": "4b1e9289-6f92-48b5-9138-1b68103fe713",
   "metadata": {},
   "outputs": [
    {
     "name": "stdout",
     "output_type": "stream",
     "text": [
      "Total revenue:: [ 950 1300 1500 1150]\n"
     ]
    }
   ],
   "source": [
    "import numpy as n\n",
    "\n",
    "# Question.1\n",
    "cateogary1_revenue=n.array([500,600,700,550])\n",
    "cateogary2_revenue=n.array([450,700,800,600])\n",
    "total=n.sum((cateogary1_revenue,cateogary2_revenue),axis=0)\n",
    "#total=cateogary1_revenue+cateogary2_revenue\n",
    "print('Total revenue::',total)\n"
   ]
  },
  {
   "cell_type": "code",
   "execution_count": 3,
   "id": "cdd663cc-21f0-461a-9695-7320d65bc9be",
   "metadata": {},
   "outputs": [
    {
     "name": "stdout",
     "output_type": "stream",
     "text": [
      "Profit:: [6000 7000 6500 5700]\n"
     ]
    }
   ],
   "source": [
    "# Question.2\n",
    "revenue=n.array([10000,12000,11000,10500])\n",
    "expenses=n.array([4000,5000,4500,4800])\n",
    "profit=revenue-expenses\n",
    "print('Profit::',profit)"
   ]
  },
  {
   "cell_type": "code",
   "execution_count": 5,
   "id": "a6ea34df-c08f-41e6-bc49-2e91b7036e43",
   "metadata": {},
   "outputs": [
    {
     "name": "stdout",
     "output_type": "stream",
     "text": [
      "Out of Stock Products:: [0 0 0]\n"
     ]
    }
   ],
   "source": [
    "# Question.3\n",
    "inventory=n.array([10,0,5,0,20,0])\n",
    "out=inventory[inventory==0]\n",
    "print('Out of Stock Products::',out)"
   ]
  },
  {
   "cell_type": "code",
   "execution_count": 7,
   "id": "d569836b-d1d0-42d5-a387-16ed4d20eddd",
   "metadata": {},
   "outputs": [
    {
     "name": "stdout",
     "output_type": "stream",
     "text": [
      "Total Cost of items:: [20. 15. 32. 12.]\n"
     ]
    }
   ],
   "source": [
    "# Question.4\n",
    "quantity=n.array([2,3,4,1])\n",
    "price_per_item=n.array([10.0,5.0,8.0,12.0])\n",
    "totalprice=quantity*price_per_item\n",
    "print('Total Cost of items::',totalprice)"
   ]
  },
  {
   "cell_type": "code",
   "execution_count": null,
   "id": "7884fe61-30cd-4fbb-b40f-82b1c26a553b",
   "metadata": {},
   "outputs": [],
   "source": []
  }
 ],
 "metadata": {
  "kernelspec": {
   "display_name": "Python 3 (ipykernel)",
   "language": "python",
   "name": "python3"
  },
  "language_info": {
   "codemirror_mode": {
    "name": "ipython",
    "version": 3
   },
   "file_extension": ".py",
   "mimetype": "text/x-python",
   "name": "python",
   "nbconvert_exporter": "python",
   "pygments_lexer": "ipython3",
   "version": "3.12.4"
  }
 },
 "nbformat": 4,
 "nbformat_minor": 5
}
